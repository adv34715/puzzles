{
 "cells": [
  {
   "cell_type": "code",
   "execution_count": 5,
   "metadata": {
    "collapsed": false
   },
   "outputs": [
    {
     "name": "stdout",
     "output_type": "stream",
     "text": [
      "732506\n"
     ]
    }
   ],
   "source": [
    "# This is the solution to Yodle's triangle puzzle \n",
    "# Puzzle: http://www.yodlecareers.com/puzzles/triangle.html\n",
    "\n",
    "def sum_tri(triangle,l):\n",
    "    a = b =0    \n",
    "    for r in range(1,l):\n",
    "        #add every row to next row\n",
    "        length = len(triangle[r])\n",
    "        for c in range(length):\n",
    "            if c == 0:\n",
    "                triangle[r][c] += triangle[r-1][c]\n",
    "            elif c == length-1:\n",
    "                triangle[r][c] += triangle[r-1][c-1]\n",
    "            else:\n",
    "                a = triangle[r-1][c-1]\n",
    "                b = triangle[r-1][c]\n",
    "                if a >= b:\n",
    "                    triangle[r][c] += a\n",
    "                else:\n",
    "                    triangle[r][c] += b \n",
    "        \n",
    "    \n",
    "#load triangle.txt\n",
    "d = open('triangle.txt', 'rb')\n",
    "\n",
    "#load data from .txt into list data[].\n",
    "data = []\n",
    "\n",
    "for r in d:\n",
    "    row = []\n",
    "    for i in r.split():\n",
    "        row.append(int(i))\n",
    "    data.append(row)\n",
    "\n",
    "l = len(data)\n",
    "sum_tri(data,l)\n",
    "print max(data[l-1])"
   ]
  },
  {
   "cell_type": "code",
   "execution_count": null,
   "metadata": {
    "collapsed": true
   },
   "outputs": [],
   "source": []
  }
 ],
 "metadata": {
  "kernelspec": {
   "display_name": "Python 2",
   "language": "python",
   "name": "python2"
  },
  "language_info": {
   "codemirror_mode": {
    "name": "ipython",
    "version": 2
   },
   "file_extension": ".py",
   "mimetype": "text/x-python",
   "name": "python",
   "nbconvert_exporter": "python",
   "pygments_lexer": "ipython2",
   "version": "2.7.11"
  }
 },
 "nbformat": 4,
 "nbformat_minor": 0
}
